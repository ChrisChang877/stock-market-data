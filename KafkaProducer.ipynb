{
 "cells": [
  {
   "cell_type": "code",
   "execution_count": null,
   "id": "afed3388",
   "metadata": {},
   "outputs": [],
   "source": [
    "import pandas as pd\n",
    "from kafka import KafkaConsumer, KafkaProducer\n",
    "from time import sleep\n",
    "from json import dumps\n",
    "import json"
   ]
  },
  {
   "cell_type": "code",
   "execution_count": null,
   "id": "19f95dc3",
   "metadata": {},
   "outputs": [],
   "source": [
    "producer = KafkaProducer(bootstrap_servers=['34.232.52.86:9092'],\n",
    "                        value_serializer = lambda x: dumps(x).encode('utf-8'))"
   ]
  },
  {
   "cell_type": "code",
   "execution_count": null,
   "id": "5efd5a4d",
   "metadata": {},
   "outputs": [],
   "source": [
    "producer.send('demo_test', value={\"Hello\":\"123\"})"
   ]
  },
  {
   "cell_type": "code",
   "execution_count": null,
   "id": "63894933",
   "metadata": {},
   "outputs": [],
   "source": [
    "df = pd.read_csv(\"indexProcessed.csv\")"
   ]
  },
  {
   "cell_type": "code",
   "execution_count": null,
   "id": "ac9fbf32",
   "metadata": {},
   "outputs": [],
   "source": [
    "df.head()"
   ]
  },
  {
   "cell_type": "code",
   "execution_count": null,
   "id": "eb099d4a",
   "metadata": {},
   "outputs": [],
   "source": [
    "while True:\n",
    "    dict_stock = df.sample(1).to_dict(orient=\"records\")[0]\n",
    "    producer.send('demo_test', value=dict_stock)\n",
    "    sleep(1)"
   ]
  },
  {
   "cell_type": "code",
   "execution_count": null,
   "id": "17b1558c",
   "metadata": {},
   "outputs": [],
   "source": [
    "producer.flush() #clear data from kafka server"
   ]
  },
  {
   "cell_type": "code",
   "execution_count": null,
   "id": "34742c64",
   "metadata": {},
   "outputs": [],
   "source": []
  }
 ],
 "metadata": {
  "kernelspec": {
   "display_name": "Python 3 (ipykernel)",
   "language": "python",
   "name": "python3"
  },
  "language_info": {
   "codemirror_mode": {
    "name": "ipython",
    "version": 3
   },
   "file_extension": ".py",
   "mimetype": "text/x-python",
   "name": "python",
   "nbconvert_exporter": "python",
   "pygments_lexer": "ipython3",
   "version": "3.9.13"
  }
 },
 "nbformat": 4,
 "nbformat_minor": 5
}
